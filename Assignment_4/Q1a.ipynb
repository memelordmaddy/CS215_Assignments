{
 "cells": [
  {
   "cell_type": "code",
   "execution_count": 38,
   "metadata": {},
   "outputs": [
    {
     "data": {
      "text/html": [
       "<div>\n",
       "<style scoped>\n",
       "    .dataframe tbody tr th:only-of-type {\n",
       "        vertical-align: middle;\n",
       "    }\n",
       "\n",
       "    .dataframe tbody tr th {\n",
       "        vertical-align: top;\n",
       "    }\n",
       "\n",
       "    .dataframe thead th {\n",
       "        text-align: right;\n",
       "    }\n",
       "</style>\n",
       "<table border=\"1\" class=\"dataframe\">\n",
       "  <thead>\n",
       "    <tr style=\"text-align: right;\">\n",
       "      <th></th>\n",
       "      <th>vehicle_no</th>\n",
       "      <th>timestamp</th>\n",
       "      <th>camera_id</th>\n",
       "    </tr>\n",
       "  </thead>\n",
       "  <tbody>\n",
       "    <tr>\n",
       "      <th>0</th>\n",
       "      <td>MHUN7063</td>\n",
       "      <td>2024-09-12 05:00:00</td>\n",
       "      <td>1</td>\n",
       "    </tr>\n",
       "    <tr>\n",
       "      <th>1</th>\n",
       "      <td>MHYN4677</td>\n",
       "      <td>2024-09-12 05:00:00</td>\n",
       "      <td>1</td>\n",
       "    </tr>\n",
       "    <tr>\n",
       "      <th>2</th>\n",
       "      <td>MHEL6595</td>\n",
       "      <td>2024-09-12 05:00:00</td>\n",
       "      <td>1</td>\n",
       "    </tr>\n",
       "    <tr>\n",
       "      <th>3</th>\n",
       "      <td>MHNQ2590</td>\n",
       "      <td>2024-09-12 05:00:00</td>\n",
       "      <td>1</td>\n",
       "    </tr>\n",
       "    <tr>\n",
       "      <th>4</th>\n",
       "      <td>MHHA0518</td>\n",
       "      <td>2024-09-12 05:00:00</td>\n",
       "      <td>1</td>\n",
       "    </tr>\n",
       "  </tbody>\n",
       "</table>\n",
       "</div>"
      ],
      "text/plain": [
       "  vehicle_no            timestamp  camera_id\n",
       "0   MHUN7063  2024-09-12 05:00:00          1\n",
       "1   MHYN4677  2024-09-12 05:00:00          1\n",
       "2   MHEL6595  2024-09-12 05:00:00          1\n",
       "3   MHNQ2590  2024-09-12 05:00:00          1\n",
       "4   MHHA0518  2024-09-12 05:00:00          1"
      ]
     },
     "execution_count": 38,
     "metadata": {},
     "output_type": "execute_result"
    }
   ],
   "source": [
    "import numpy as np  \n",
    "import matplotlib.pyplot as plt \n",
    "import pandas as pd\n",
    "data= pd.read_csv('parkingLot.csv')\n",
    "data.head()"
   ]
  },
  {
   "cell_type": "code",
   "execution_count": 39,
   "metadata": {},
   "outputs": [
    {
     "name": "stdout",
     "output_type": "stream",
     "text": [
      "       vehicle_no            timestamp  camera_id\n",
      "0        MHUN7063  2024-09-12 05:00:00          1\n",
      "1        MHYN4677  2024-09-12 05:00:00          1\n",
      "2        MHEL6595  2024-09-12 05:00:00          1\n",
      "3        MHNQ2590  2024-09-12 05:00:00          1\n",
      "4        MHHA0518  2024-09-12 05:00:00          1\n",
      "...           ...                  ...        ...\n",
      "106689   MHCN7114  2024-11-14 00:00:00          2\n",
      "106690   MHVY8418  2024-11-14 00:00:00          2\n",
      "106691   MHSR8102  2024-11-14 00:00:00          2\n",
      "106692   MHQG5264  2024-11-14 00:00:00          2\n",
      "106693   MHLX0117  2024-11-14 00:00:00          2\n",
      "\n",
      "[106694 rows x 3 columns]\n"
     ]
    }
   ],
   "source": [
    "def modify_vehicle_no(vehicle_no):\n",
    "    # Check if vehicle_no is NaN or empty\n",
    "    if pd.isna(vehicle_no) or vehicle_no == '':\n",
    "        return vehicle_no  # Leave empty or NaN as is\n",
    "\n",
    "    # Check if the first letter is 'M' or the second letter is 'H'\n",
    "    if (len(vehicle_no) > 1 and (vehicle_no[0] == 'M' or vehicle_no[1] == 'H')):\n",
    "        return 'MH' + vehicle_no[2:]  # Modify only the first two letters and keep the rest unchanged\n",
    "\n",
    "    return vehicle_no  # Leave as is otherwise\n",
    "\n",
    "# Apply the function to the 'vehicle_no' column\n",
    "data['vehicle_no'] = data['vehicle_no'].apply(modify_vehicle_no)\n",
    "\n",
    "# Display the updated DataFrame\n",
    "print(data)"
   ]
  },
  {
   "cell_type": "code",
   "execution_count": null,
   "metadata": {},
   "outputs": [],
   "source": []
  }
 ],
 "metadata": {
  "kernelspec": {
   "display_name": "Python 3",
   "language": "python",
   "name": "python3"
  },
  "language_info": {
   "codemirror_mode": {
    "name": "ipython",
    "version": 3
   },
   "file_extension": ".py",
   "mimetype": "text/x-python",
   "name": "python",
   "nbconvert_exporter": "python",
   "pygments_lexer": "ipython3",
   "version": "3.10.12"
  }
 },
 "nbformat": 4,
 "nbformat_minor": 2
}
